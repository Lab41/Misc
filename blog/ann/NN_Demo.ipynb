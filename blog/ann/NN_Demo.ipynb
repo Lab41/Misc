{
 "cells": [
  {
   "cell_type": "code",
   "execution_count": 1,
   "metadata": {
    "collapsed": false
   },
   "outputs": [],
   "source": [
    "import h5py\n",
    "import numpy as np\n",
    "import os\n",
    "import glob\n",
    "import time"
   ]
  },
  {
   "cell_type": "code",
   "execution_count": 2,
   "metadata": {
    "collapsed": true
   },
   "outputs": [],
   "source": [
    "%matplotlib inline"
   ]
  },
  {
   "cell_type": "code",
   "execution_count": 3,
   "metadata": {
    "collapsed": true
   },
   "outputs": [],
   "source": [
    "import matplotlib.pyplot as plt\n",
    "import matplotlib.image as mpimg\n",
    "import tarfile"
   ]
  },
  {
   "cell_type": "code",
   "execution_count": 4,
   "metadata": {
    "collapsed": true
   },
   "outputs": [],
   "source": [
    "SUPPRESS_PLOTS = False"
   ]
  },
  {
   "cell_type": "markdown",
   "metadata": {
    "collapsed": true
   },
   "source": [
    "# Helper Functions"
   ]
  },
  {
   "cell_type": "code",
   "execution_count": 87,
   "metadata": {
    "collapsed": true
   },
   "outputs": [],
   "source": [
    "from IPython.core.display import HTML\n",
    "def normalize_rows(data):\n",
    "    ''' \n",
    "    Normalize feature vector to be unit length feature vector\n",
    "    '''\n",
    "    num_rows, num_feats = data.shape\n",
    "    for i in range(num_rows):\n",
    "        # Take the Frobenius norm of the data  \n",
    "        data[i, :] = np.linalg.norm(data[i,:], 'fro')\n",
    "    return data\n",
    "def get_table_html(image_paths, height =\"100px\"):\n",
    "    '''\n",
    "    This takes in a list of lists of image paths or none\n",
    "    Input: [[None, path1, None], [path2, path3, path4]]\n",
    "    Output: An HTML table containing the images\n",
    "    '''\n",
    "    if len(image_paths) != 2: \n",
    "        raise NotImplementedError('Only 2 inputs supported, not %d'%len(image_paths))\n",
    "    if len(image_paths[0]) != len(image_paths[1]):\n",
    "        raise ValueError('Inputs rows must have same length')\n",
    "    \n",
    "    row_size = len(image_paths[1])\n",
    "    output_table = [[],[]]\n",
    "    for row in range(len(image_paths)):\n",
    "        for col, path in enumerate(image_paths[row]):\n",
    "            if path is None:\n",
    "                output_table[row].append('<td />')\n",
    "            else:\n",
    "                output_table[row].append('<td><img src=\"%s\" width=\"auto\" height=\"%s\"/></td>'%(path,height))\n",
    "    output_html = \"\"\n",
    "    output_html += \"<table>\"\n",
    "    for row in output_table:\n",
    "        output_html += \"<tr>\" + ''.join(row) + \"</tr>\"\n",
    "    output_html += \"</table>\"\n",
    "    return output_html\n",
    "    "
   ]
  },
  {
   "cell_type": "markdown",
   "metadata": {},
   "source": [
    "# Load Data"
   ]
  },
  {
   "cell_type": "code",
   "execution_count": 6,
   "metadata": {
    "collapsed": false,
    "scrolled": true
   },
   "outputs": [
    {
     "name": "stdout",
     "output_type": "stream",
     "text": [
      "Loading hdf5/183.hdf5 0\n",
      "Loading hdf5/530.hdf5 1\n",
      "Loading hdf5/989.hdf5 2\n",
      "Loading hdf5/993.hdf5 3\n",
      "Loading hdf5/980.hdf5 4\n",
      "Loading hdf5/188.hdf5 5\n",
      "Loading hdf5/191.hdf5 6\n",
      "Loading hdf5/215.hdf5 7\n",
      "Loading hdf5/201.hdf5 8\n",
      "Loading hdf5/985.hdf5 9\n",
      "Loading hdf5/161.hdf5 10\n",
      "Loading hdf5/998.hdf5 11\n",
      "Loading hdf5/996.hdf5 12\n",
      "Loading hdf5/883.hdf5 13\n",
      "Loading hdf5/984.hdf5 14\n",
      "Loading hdf5/586.hdf5 15\n",
      "Loading hdf5/182.hdf5 16\n",
      "Loading hdf5/283.hdf5 17\n",
      "Loading hdf5/991.hdf5 18\n",
      "Loading hdf5/986.hdf5 19\n",
      "Loading hdf5/124.hdf5 20\n",
      "Loading hdf5/162.hdf5 21\n",
      "Loading hdf5/974.hdf5 22\n",
      "Loading hdf5/175.hdf5 23\n",
      "Loading hdf5/543.hdf5 24\n",
      "Loading hdf5/193.hdf5 25\n",
      "Loading hdf5/975.hdf5 26\n",
      "Loading hdf5/164.hdf5 27\n",
      "Loading hdf5/982.hdf5 28\n",
      "Loading hdf5/171.hdf5 29\n",
      "Loading hdf5/178.hdf5 30\n",
      "Loading hdf5/154.hdf5 31\n",
      "Loading hdf5/882.hdf5 32\n",
      "Loading hdf5/990.hdf5 33\n",
      "Loading hdf5/194.hdf5 34\n",
      "Loading hdf5/174.hdf5 35\n",
      "Loading hdf5/453.hdf5 36\n",
      "Loading hdf5/172.hdf5 37\n",
      "Loading hdf5/997.hdf5 38\n",
      "Loading hdf5/983.hdf5 39\n",
      "Loading hdf5/444.hdf5 40\n",
      "Loading hdf5/199.hdf5 41\n",
      "Loading hdf5/995.hdf5 42\n",
      "Loading hdf5/200.hdf5 43\n",
      "Loading hdf5/449.hdf5 44\n",
      "Loading hdf5/999.hdf5 45\n",
      "Loading hdf5/173.hdf5 46\n",
      "Loading hdf5/163.hdf5 47\n",
      "Loading hdf5/236.hdf5 48\n",
      "Loading hdf5/979.hdf5 49\n"
     ]
    }
   ],
   "source": [
    "# Store All Data in Memory\n",
    "all_data = None\n",
    "all_fnames = None\n",
    "for i, fname in enumerate(glob.glob('hdf5/*')[:50]):\n",
    "    print 'Loading %s'%fname, i\n",
    "    raw_data = h5py.File(fname, 'r')\n",
    "    data = normalize_rows(np.array(raw_data['feats']).transpose())\n",
    "    if all_fnames is not None:\n",
    "        all_data = np.concatenate((all_data, data))\n",
    "        all_fnames.extend(raw_data['filenames'][()].tolist())\n",
    "    else:\n",
    "        all_data = data\n",
    "        all_fnames = raw_data['filenames'][()].tolist()"
   ]
  },
  {
   "cell_type": "code",
   "execution_count": 35,
   "metadata": {
    "collapsed": false
   },
   "outputs": [],
   "source": [
    "# Read metadata for files\n",
    "import bz2\n",
    "import os\n",
    "fname_2_path = {}\n",
    "for line in bz2.BZ2File('/data/yfcc100m_dataset-1.bz2'):\n",
    "    try:\n",
    "        line = line.strip().split('\\t')\n",
    "        path = line[14] # 14 = full static path\n",
    "        fname = os.path.basename(path)\n",
    "        fname_2_path[fname] = path\n",
    "    except:\n",
    "        print line\n",
    "        raise"
   ]
  },
  {
   "cell_type": "markdown",
   "metadata": {},
   "source": [
    "# NearPy"
   ]
  },
  {
   "cell_type": "code",
   "execution_count": 7,
   "metadata": {
    "collapsed": false
   },
   "outputs": [],
   "source": [
    "# Store data using NearPy\n",
    "from nearpy import Engine\n",
    "from nearpy.hashes import RandomBinaryProjections\n",
    "dimension=4096\n",
    "rbp = RandomBinaryProjections('rbp', 10)\n",
    "nearpy = Engine(dimension, lshashes=[rbp])\n",
    "for i in range(all_data.shape[0]):\n",
    "    nearpy.store_vector(all_data[i, :], all_fnames[i])"
   ]
  },
  {
   "cell_type": "code",
   "execution_count": 93,
   "metadata": {
    "collapsed": false,
    "scrolled": false
   },
   "outputs": [
    {
     "data": {
      "text/html": [
       "<table><tr><td /><td><img src=\"http://farm8.staticflickr.com/7319/9865641774_4b429ee130.jpg\" width=\"auto\" height=\"100px\"/></td><td /></tr><tr><td><img src=\"http://farm1.staticflickr.com/59/164457132_285159a8bd.jpg\" width=\"auto\" height=\"100px\"/></td><td><img src=\"http://farm3.staticflickr.com/2024/1821391060_8dd511fed8.jpg\" width=\"auto\" height=\"100px\"/></td><td><img src=\"http://farm6.staticflickr.com/5337/9918587543_14e2ef6c8e.jpg\" width=\"auto\" height=\"100px\"/></td></tr></table><table><tr><td /><td><img src=\"http://farm8.staticflickr.com/7282/8828061032_34e3126cbe.jpg\" width=\"auto\" height=\"100px\"/></td><td /></tr><tr><td><img src=\"http://farm1.staticflickr.com/48/182648560_6324e331ef.jpg\" width=\"auto\" height=\"100px\"/></td><td><img src=\"http://farm4.staticflickr.com/3679/12650197125_077192c07d.jpg\" width=\"auto\" height=\"100px\"/></td><td><img src=\"http://farm1.staticflickr.com/186/453609575_ca0c378144.jpg\" width=\"auto\" height=\"100px\"/></td></tr></table><table><tr><td /><td><img src=\"http://farm8.staticflickr.com/7447/9941417455_c85def7615.jpg\" width=\"auto\" height=\"100px\"/></td><td /></tr><tr><td><img src=\"http://farm8.staticflickr.com/7313/9940520973_3c00ca0ba7.jpg\" width=\"auto\" height=\"100px\"/></td><td><img src=\"http://farm4.staticflickr.com/3784/9935769145_1e30b39368.jpg\" width=\"auto\" height=\"100px\"/></td><td><img src=\"http://farm8.staticflickr.com/7375/9941514364_16067359e2.jpg\" width=\"auto\" height=\"100px\"/></td></tr></table><table><tr><td /><td><img src=\"http://farm1.staticflickr.com/14/19489374_3e40345914.jpg\" width=\"auto\" height=\"100px\"/></td><td /></tr><tr><td><img src=\"http://farm1.staticflickr.com/54/166552765_96093ae33d.jpg\" width=\"auto\" height=\"100px\"/></td><td><img src=\"http://farm1.staticflickr.com/188/453180236_600fa8170c.jpg\" width=\"auto\" height=\"100px\"/></td><td><img src=\"http://farm1.staticflickr.com/44/175160906_a62c650668.jpg\" width=\"auto\" height=\"100px\"/></td></tr></table><table><tr><td /><td><img src=\"http://farm3.staticflickr.com/2185/1766812507_e15553a390.jpg\" width=\"auto\" height=\"100px\"/></td><td /></tr><tr><td><img src=\"http://farm6.staticflickr.com/5519/9889661466_c2fbc48a77.jpg\" width=\"auto\" height=\"100px\"/></td><td><img src=\"http://farm3.staticflickr.com/2170/2018266708_e9aaa39534.jpg\" width=\"auto\" height=\"100px\"/></td><td><img src=\"http://farm1.staticflickr.com/52/154704275_1383257654.jpg\" width=\"auto\" height=\"100px\"/></td></tr></table>"
      ],
      "text/plain": [
       "<IPython.core.display.HTML object>"
      ]
     },
     "execution_count": 93,
     "metadata": {},
     "output_type": "execute_result"
    }
   ],
   "source": [
    "# Extract Nearest Neighbors for some fo the data\n",
    "NUM_NEIGHBORS= 3\n",
    "WIDTH = 100\n",
    "HEIGHT = \"10px\"\n",
    "\n",
    "html = ''\n",
    "start_time=time.time()\n",
    "tables = []\n",
    "\n",
    "# Builds an HTML Table for each set of images and their nearest neighbor \n",
    "for src_idx in range(100,105):\n",
    "    images = [[None]*NUM_NEIGHBORS, [None]*NUM_NEIGHBORS]\n",
    "    \n",
    "    # Get Source Image\n",
    "    src_fname = all_fnames[src_idx]\n",
    "    if SUPPRESS_PLOTS is False:\n",
    "        path = fname_2_path[src_fname]\n",
    "        images[0][int(NUM_NEIGHBORS/2.0)] = path\n",
    "\n",
    "    # Get nearest neighbors\n",
    "    nns = [x[1] for x in nearpy.neighbours(all_data[src_idx, :])][1:NUM_NEIGHBORS+1]\n",
    "    for i, nn_fname in enumerate(nns):\n",
    "        if SUPPRESS_PLOTS is False:\n",
    "            path = fname_2_path[nn_fname]\n",
    "            images[1][i] = path\n",
    "    tables.append(get_table_html(images))\n",
    "\n",
    "#print 'Elapsed Time:', time.time() - start_time\n",
    "HTML(''.join(tables))"
   ]
  },
  {
   "cell_type": "markdown",
   "metadata": {},
   "source": [
    "# Annoy"
   ]
  },
  {
   "cell_type": "code",
   "execution_count": null,
   "metadata": {
    "collapsed": false
   },
   "outputs": [],
   "source": [
    "from annoy import AnnoyIndex\n",
    "annoy = AnnoyIndex(dimension)\n",
    "total_count = 0\n",
    "for i in range(all_data.shape[0]):\n",
    "    annoy.add_item(total_count, all_data[i,:])\n",
    "    total_count += 1\n",
    "annoy.build(10) # 10 trees\n",
    "annoy.save('test.ann')"
   ]
  },
  {
   "cell_type": "code",
   "execution_count": null,
   "metadata": {
    "collapsed": false
   },
   "outputs": [],
   "source": [
    "NUM_NEIGHBORS= 3\n",
    "start_time = time.time()\n",
    "for src_idx in range(200,210):\n",
    "    images = [[None]*NUM_NEIGHBORS, [None]*NUM_NEIGHBORS]\n",
    "    \n",
    "    # Get Source Image\n",
    "    src_fname = all_fnames[src_idx]\n",
    "    if SUPPRESS_PLOTS is False:\n",
    "        path = fname_2_path[src_fname]\n",
    "        images[0][int(NUM_NEIGHBORS/2.0)] = path\n",
    "        \n",
    "    # Get nearest neighbors\n",
    "    nns = annoy.get_nns_by_item(src_idx,NUM_NEIGHBORS)\n",
    "    for i, nn in enumerate(nns):\n",
    "        # Add to plot\n",
    "        nn_fname = all_fnames[int(nn)]\n",
    "        if SUPPRESS_PLOTS is False:\n",
    "            path = fname_2_path[nn_fname]\n",
    "            images[1][i] = path\n",
    "    tables.append(get_table_html(images))\n",
    "\n",
    "#print 'Elapsed Time:', time.time() - start_time\n",
    "HTML(''.join(tables))"
   ]
  },
  {
   "cell_type": "markdown",
   "metadata": {},
   "source": [
    "# MINHEAP Implementation"
   ]
  },
  {
   "cell_type": "code",
   "execution_count": 13,
   "metadata": {
    "collapsed": true
   },
   "outputs": [],
   "source": [
    "import heapq\n",
    "class MinHeap:\n",
    "    ''' A quick and dirty minheap implementation to test out the brute force search'''\n",
    "    def __init__(self, max_size):\n",
    "        self.max_size = max_size\n",
    "        self.data = []\n",
    "        self.max_acceptable = None\n",
    "\n",
    "    def get_max(self):\n",
    "        return self.data[self.get_max_index()][0]\n",
    "\n",
    "    def get_max_index(self):\n",
    "        return self.data.index(max(self.data))\n",
    "\n",
    "    def insert(self, item, index):\n",
    "        if len(self.data) < self.max_size:\n",
    "            self.data.append((item, index))\n",
    "            self.max_acceptable = self.get_max()\n",
    "        elif item < self.max_acceptable:\n",
    "            del self.data[self.get_max_index()]\n",
    "            self.data.append((item, index))\n",
    "            self.max_acceptable = self.get_max()\n",
    "    def get_result(self):\n",
    "        if self.max_size == 1:\n",
    "            return self.data[0][1]\n",
    "        else:\n",
    "            return [v for (k, v) in self.data]\n",
    "\n",
    "def get_distance(v1, v2):\n",
    "    # Euclidean\n",
    "    return np.sqrt(np.sum(np.square(np.subtract(v1,v2))))\n",
    "\n",
    "def cosine_similarity(v1, v2):\n",
    "    # Cosine Similarity (assuming normalized vectors)\n",
    "    return np.dot(v1, v2)\n",
    "\n",
    "def row_iteratble(matrix):\n",
    "    for i in range(matrix.shape[0]):\n",
    "        yield matrix[i, :]\n",
    "\n",
    "def get_min_distances_index(source, targets, skip_index, heap_size):\n",
    "    mh = MinHeap(heap_size)\n",
    "    for i in range(len(targets)):\n",
    "        if i != skip_index:\n",
    "            mh.insert(get_distance(source, targets[i, :]), i)\n",
    "    return mh.get_result()\n",
    "\n",
    "def find_nn_index(data, index, num_results):\n",
    "    source = data[index, :]\n",
    "    min_index = get_min_distances_index(source, data, index, num_results)\n",
    "    return min_index"
   ]
  },
  {
   "cell_type": "code",
   "execution_count": null,
   "metadata": {
    "collapsed": false
   },
   "outputs": [],
   "source": [
    "NUM_NEIGHBORS= 3\n",
    "start_time = time.time()\n",
    "for src_idx in range(200,210):\n",
    "    nns = find_nn_index(all_data, src_idx, NUM_NEIGHBORS)\n",
    "    \n",
    "    src_fname = os.path.basename(all_fnames[src_idx])\n",
    "    if SUPPRESS_PLOTS is False:\n",
    "        path = fname_2_path[src_fname]\n",
    "        images[0][int(NUM_NEIGHBORS/2.0)] = path\n",
    "        \n",
    "    for i, nn in enumerate(nns):\n",
    "        nn_fname = os.path.basename(all_fnames[nn])\n",
    "        if SUPPRESS_PLOTS is False:\n",
    "            path = fname_2_path[nn_fname]\n",
    "            images[1][i] = path\n",
    "    tables.append(get_table_html(images))\n",
    "    \n",
    "#print 'Elapsed Time:', time.time() - start_time\n",
    "HTML(''.join(tables))"
   ]
  },
  {
   "cell_type": "code",
   "execution_count": null,
   "metadata": {
    "collapsed": true
   },
   "outputs": [],
   "source": []
  }
 ],
 "metadata": {
  "kernelspec": {
   "display_name": "Python 2",
   "language": "python",
   "name": "python2"
  },
  "language_info": {
   "codemirror_mode": {
    "name": "ipython",
    "version": 2
   },
   "file_extension": ".py",
   "mimetype": "text/x-python",
   "name": "python",
   "nbconvert_exporter": "python",
   "pygments_lexer": "ipython2",
   "version": "2.7.11"
  }
 },
 "nbformat": 4,
 "nbformat_minor": 0
}
