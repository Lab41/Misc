{
 "cells": [
  {
   "cell_type": "markdown",
   "metadata": {},
   "source": [
    "# Python2Vec Example"
   ]
  },
  {
   "cell_type": "markdown",
   "metadata": {},
   "source": [
    "We begin by loading the pretrained model. It was trained with the following parameters:\n",
    "\n",
    "```\n",
    "from pyspark.mllib.feature import Word2Vec\n",
    "\n",
    "word2vec = Word2Vec()\n",
    "word2vec.setMinCount(25)\n",
    "word2vec.setLearningRate(0.025)\n",
    "word2vec.setVectorSize(50)\n",
    "model = word2vec.fit(words)\n",
    "```\n",
    "\n",
    "Where `words` is a collection of lists, with each list containing the words from a single line of Python. The code used for the training set came from the following libraries:\n",
    "\n",
    "\n",
    "- [matplotlib](https://github.com/matplotlib/matplotlib)\n",
    "- [scikit-learn](https://github.com/scikit-learn/scikit-learn)\n",
    "- [numpy](https://github.com/numpy/numpy)\n",
    "- [pandas](https://github.com/pydata/pandas)\n",
    "- [django](https://github.com/django/django)\n",
    "- [scipy](https://github.com/scipy/scipy)\n",
    "- [flask](https://github.com/mitsuhiko/flask)\n",
    "- [requests](https://github.com/kennethreitz/requests)\n",
    "- [ansible](https://github.com/ansible/ansible)\n",
    "- [sentry](https://github.com/getsentry/sentry)\n",
    "- [scrapy](https://github.com/scrapy/scrapy)\n",
    "- [Mailpile](https://github.com/mailpile/Mailpile)\n",
    "- [sshuttle](https://github.com/apenwarr/sshuttle)\n",
    "- [salt](https://github.com/saltstack/salt)\n",
    "- [NewsBlur](https://github.com/samuelclay/NewsBlur)\n",
    "- [beets](https://github.com/beetbox/beets)\n",
    "- [SublimeCodeIntel](https://github.com/SublimeCodeIntel/SublimeCodeIntel)"
   ]
  },
  {
   "cell_type": "markdown",
   "metadata": {},
   "source": [
    "## Load the Model"
   ]
  },
  {
   "cell_type": "code",
   "execution_count": 1,
   "metadata": {
    "collapsed": false
   },
   "outputs": [],
   "source": [
    "from src.model import Py2Vec\n",
    "\n",
    "json_file = \"./data/blog_model.json\"\n",
    "model = Py2Vec(json_file)"
   ]
  },
  {
   "cell_type": "markdown",
   "metadata": {},
   "source": [
    "## Play with the Model"
   ]
  },
  {
   "cell_type": "markdown",
   "metadata": {},
   "source": [
    "The model can find the vector for a word as follows:"
   ]
  },
  {
   "cell_type": "code",
   "execution_count": 2,
   "metadata": {
    "collapsed": true
   },
   "outputs": [],
   "source": [
    "WORD = \"if\""
   ]
  },
  {
   "cell_type": "code",
   "execution_count": 3,
   "metadata": {
    "collapsed": false,
    "scrolled": true
   },
   "outputs": [
    {
     "data": {
      "text/plain": [
       "array([ 0.09466234,  0.28889984,  0.1308112 , -0.05844196, -0.16983712,\n",
       "       -0.0166158 , -0.16119699, -0.10156288, -0.05623753, -0.14935999,\n",
       "       -0.11714134,  0.14477304,  0.28775242,  0.12222207, -0.09567802,\n",
       "        0.08175498, -0.09353275, -0.12397329, -0.08333923,  0.04878221,\n",
       "       -0.38459352, -0.09947983, -0.2902336 , -0.06798651,  0.14922994,\n",
       "        0.30129457, -0.09702022,  0.17557855,  0.22417529, -0.18842494,\n",
       "        0.12816922, -0.20911421, -0.24793662,  0.09082287, -0.07911459,\n",
       "       -0.09016705,  0.13365737,  0.05189047,  0.42096484, -0.09606148,\n",
       "       -0.29605725,  0.12067144,  0.01540663,  0.22810976,  0.08252437,\n",
       "        0.02883578,  0.10888317, -0.16921936, -0.06220951,  0.06783944])"
      ]
     },
     "execution_count": 3,
     "metadata": {},
     "output_type": "execute_result"
    }
   ],
   "source": [
    "model[WORD]"
   ]
  },
  {
   "cell_type": "markdown",
   "metadata": {},
   "source": [
    "It can also find the closest words in the model:"
   ]
  },
  {
   "cell_type": "code",
   "execution_count": 4,
   "metadata": {
    "collapsed": false,
    "scrolled": true
   },
   "outputs": [
    {
     "data": {
      "text/plain": [
       "[(0.418, u'elif'),\n",
       " (0.657, u'else'),\n",
       " (0.857, u'module_dir_switch'),\n",
       " (0.966, u'repo_opts'),\n",
       " (0.969, u'bzip2')]"
      ]
     },
     "execution_count": 4,
     "metadata": {},
     "output_type": "execute_result"
    }
   ],
   "source": [
    "model.closest_words(WORD, 5)"
   ]
  },
  {
   "cell_type": "markdown",
   "metadata": {},
   "source": [
    "Where the number is the euclidian distance between `WORD` and the output word."
   ]
  },
  {
   "cell_type": "markdown",
   "metadata": {},
   "source": [
    "The model can also find the closest words to a vector:"
   ]
  },
  {
   "cell_type": "code",
   "execution_count": 5,
   "metadata": {
    "collapsed": false
   },
   "outputs": [
    {
     "data": {
      "text/plain": [
       "[(0.3, u'mismatched'),\n",
       " (0.312, u'mxtype'),\n",
       " (0.332, u'lns'),\n",
       " (0.361, u'nonsense'),\n",
       " (0.378, u'system_frames')]"
      ]
     },
     "execution_count": 5,
     "metadata": {},
     "output_type": "execute_result"
    }
   ],
   "source": [
    "target_vector = model.null_vector\n",
    "\n",
    "model.closest_words(target_vector, 5)"
   ]
  },
  {
   "cell_type": "code",
   "execution_count": 6,
   "metadata": {
    "collapsed": false
   },
   "outputs": [
    {
     "data": {
      "text/plain": [
       "[(0.891, u'for'),\n",
       " (1.691, u'contrast'),\n",
       " (1.697, u'measurement'),\n",
       " (1.699, u'ripple'),\n",
       " (1.731, u'stock')]"
      ]
     },
     "execution_count": 6,
     "metadata": {},
     "output_type": "execute_result"
    }
   ],
   "source": [
    "target_vector = model['for'] - model['continue']\n",
    "\n",
    "model.closest_words(target_vector, 5)"
   ]
  }
 ],
 "metadata": {
  "kernelspec": {
   "display_name": "Python 2",
   "language": "python",
   "name": "python2"
  },
  "language_info": {
   "codemirror_mode": {
    "name": "ipython",
    "version": 2
   },
   "file_extension": ".py",
   "mimetype": "text/x-python",
   "name": "python",
   "nbconvert_exporter": "python",
   "pygments_lexer": "ipython2",
   "version": "2.7.11"
  }
 },
 "nbformat": 4,
 "nbformat_minor": 0
}
